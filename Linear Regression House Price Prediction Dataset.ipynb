{
 "cells": [
  {
   "cell_type": "markdown",
   "id": "84b176d8",
   "metadata": {},
   "source": [
    "Import library"
   ]
  },
  {
   "cell_type": "code",
   "execution_count": 34,
   "id": "dbcd154b",
   "metadata": {},
   "outputs": [],
   "source": [
    "import pandas as pd\n",
    "import numpy as np\n",
    "import seaborn as sns\n",
    "import matplotlib.pyplot as plt\n",
    "import statsmodels.api as sm\n",
    "from sklearn import metrics\n",
    "from sklearn.linear_model import LinearRegression\n",
    "from sklearn.model_selection import train_test_split\n",
    "from sklearn.metrics import mean_squared_error\n",
    "\n"
   ]
  },
  {
   "cell_type": "markdown",
   "id": "298b9cc9",
   "metadata": {},
   "source": [
    "Read the data, find the dependent variable, and determine the data type"
   ]
  },
  {
   "cell_type": "code",
   "execution_count": 35,
   "id": "5894bba2",
   "metadata": {},
   "outputs": [
    {
     "data": {
      "text/html": [
       "<div>\n",
       "<style scoped>\n",
       "    .dataframe tbody tr th:only-of-type {\n",
       "        vertical-align: middle;\n",
       "    }\n",
       "\n",
       "    .dataframe tbody tr th {\n",
       "        vertical-align: top;\n",
       "    }\n",
       "\n",
       "    .dataframe thead th {\n",
       "        text-align: right;\n",
       "    }\n",
       "</style>\n",
       "<table border=\"1\" class=\"dataframe\">\n",
       "  <thead>\n",
       "    <tr style=\"text-align: right;\">\n",
       "      <th></th>\n",
       "      <th>Location</th>\n",
       "      <th>sq.m</th>\n",
       "      <th>number_of_rooms</th>\n",
       "      <th>floor</th>\n",
       "      <th>price (AZN)</th>\n",
       "    </tr>\n",
       "  </thead>\n",
       "  <tbody>\n",
       "    <tr>\n",
       "      <th>0</th>\n",
       "      <td>Shah Ismail Khatai m</td>\n",
       "      <td>108.0</td>\n",
       "      <td>2</td>\n",
       "      <td>3.0</td>\n",
       "      <td>210 000</td>\n",
       "    </tr>\n",
       "    <tr>\n",
       "      <th>1</th>\n",
       "      <td>8-ci mikrorayon</td>\n",
       "      <td>65.0</td>\n",
       "      <td>2</td>\n",
       "      <td>7.0</td>\n",
       "      <td>134 000</td>\n",
       "    </tr>\n",
       "    <tr>\n",
       "      <th>2</th>\n",
       "      <td>Yeni Gunesli</td>\n",
       "      <td>98.2</td>\n",
       "      <td>3</td>\n",
       "      <td>13.0</td>\n",
       "      <td>122 800</td>\n",
       "    </tr>\n",
       "    <tr>\n",
       "      <th>3</th>\n",
       "      <td>Nasimi r</td>\n",
       "      <td>248.0</td>\n",
       "      <td>5</td>\n",
       "      <td>15.0</td>\n",
       "      <td>1 000 000</td>\n",
       "    </tr>\n",
       "    <tr>\n",
       "      <th>4</th>\n",
       "      <td>Baku White City</td>\n",
       "      <td>126.1</td>\n",
       "      <td>3</td>\n",
       "      <td>NaN</td>\n",
       "      <td>453 960</td>\n",
       "    </tr>\n",
       "    <tr>\n",
       "      <th>...</th>\n",
       "      <td>...</td>\n",
       "      <td>...</td>\n",
       "      <td>...</td>\n",
       "      <td>...</td>\n",
       "      <td>...</td>\n",
       "    </tr>\n",
       "    <tr>\n",
       "      <th>3195</th>\n",
       "      <td>Narimanov r</td>\n",
       "      <td>86.0</td>\n",
       "      <td>2</td>\n",
       "      <td>7.0</td>\n",
       "      <td>118 000</td>\n",
       "    </tr>\n",
       "    <tr>\n",
       "      <th>3196</th>\n",
       "      <td>Nariman Narimanov m</td>\n",
       "      <td>85.0</td>\n",
       "      <td>3</td>\n",
       "      <td>9.0</td>\n",
       "      <td>200 000</td>\n",
       "    </tr>\n",
       "    <tr>\n",
       "      <th>3197</th>\n",
       "      <td>Qara Qarayev m</td>\n",
       "      <td>123.0</td>\n",
       "      <td>3</td>\n",
       "      <td>9.0</td>\n",
       "      <td>195 000</td>\n",
       "    </tr>\n",
       "    <tr>\n",
       "      <th>3198</th>\n",
       "      <td>Qara Qarayev m</td>\n",
       "      <td>70.0</td>\n",
       "      <td>2</td>\n",
       "      <td>8.0</td>\n",
       "      <td>124 000</td>\n",
       "    </tr>\n",
       "    <tr>\n",
       "      <th>3199</th>\n",
       "      <td>Qara Qarayev m</td>\n",
       "      <td>87.0</td>\n",
       "      <td>2</td>\n",
       "      <td>9.0</td>\n",
       "      <td>156 000</td>\n",
       "    </tr>\n",
       "  </tbody>\n",
       "</table>\n",
       "<p>3200 rows × 5 columns</p>\n",
       "</div>"
      ],
      "text/plain": [
       "                  Location   sq.m  number_of_rooms  floor price (AZN)\n",
       "0     Shah Ismail Khatai m  108.0                2    3.0     210 000\n",
       "1          8-ci mikrorayon   65.0                2    7.0     134 000\n",
       "2             Yeni Gunesli   98.2                3   13.0     122 800\n",
       "3                 Nasimi r  248.0                5   15.0   1 000 000\n",
       "4          Baku White City  126.1                3    NaN     453 960\n",
       "...                    ...    ...              ...    ...         ...\n",
       "3195           Narimanov r   86.0                2    7.0     118 000\n",
       "3196   Nariman Narimanov m   85.0                3    9.0     200 000\n",
       "3197        Qara Qarayev m  123.0                3    9.0     195 000\n",
       "3198        Qara Qarayev m   70.0                2    8.0     124 000\n",
       "3199        Qara Qarayev m   87.0                2    9.0     156 000\n",
       "\n",
       "[3200 rows x 5 columns]"
      ]
     },
     "execution_count": 35,
     "metadata": {},
     "output_type": "execute_result"
    }
   ],
   "source": [
    "house_data = pd.read_csv(r'House data.csv')\n",
    "\n",
    "house_data\n",
    "\n",
    "# Dependent variable is price(AZN) \n",
    "# The dependent variable is continuous, so it is regression data"
   ]
  },
  {
   "cell_type": "markdown",
   "id": "a9796133",
   "metadata": {},
   "source": [
    "See descriptive statistics for both numeric and categorical variables\n",
    "What is the problem with the price (AZN) variable?\n"
   ]
  },
  {
   "cell_type": "code",
   "execution_count": 36,
   "id": "00766ad6",
   "metadata": {},
   "outputs": [
    {
     "data": {
      "text/html": [
       "<div>\n",
       "<style scoped>\n",
       "    .dataframe tbody tr th:only-of-type {\n",
       "        vertical-align: middle;\n",
       "    }\n",
       "\n",
       "    .dataframe tbody tr th {\n",
       "        vertical-align: top;\n",
       "    }\n",
       "\n",
       "    .dataframe thead th {\n",
       "        text-align: right;\n",
       "    }\n",
       "</style>\n",
       "<table border=\"1\" class=\"dataframe\">\n",
       "  <thead>\n",
       "    <tr style=\"text-align: right;\">\n",
       "      <th></th>\n",
       "      <th>Location</th>\n",
       "      <th>sq.m</th>\n",
       "      <th>number_of_rooms</th>\n",
       "      <th>floor</th>\n",
       "      <th>price (AZN)</th>\n",
       "    </tr>\n",
       "  </thead>\n",
       "  <tbody>\n",
       "    <tr>\n",
       "      <th>count</th>\n",
       "      <td>2986</td>\n",
       "      <td>3200.000000</td>\n",
       "      <td>3200.000000</td>\n",
       "      <td>2783.000000</td>\n",
       "      <td>3200</td>\n",
       "    </tr>\n",
       "    <tr>\n",
       "      <th>unique</th>\n",
       "      <td>76</td>\n",
       "      <td>NaN</td>\n",
       "      <td>NaN</td>\n",
       "      <td>NaN</td>\n",
       "      <td>631</td>\n",
       "    </tr>\n",
       "    <tr>\n",
       "      <th>top</th>\n",
       "      <td>Nasimi r</td>\n",
       "      <td>NaN</td>\n",
       "      <td>NaN</td>\n",
       "      <td>NaN</td>\n",
       "      <td>135 000</td>\n",
       "    </tr>\n",
       "    <tr>\n",
       "      <th>freq</th>\n",
       "      <td>210</td>\n",
       "      <td>NaN</td>\n",
       "      <td>NaN</td>\n",
       "      <td>NaN</td>\n",
       "      <td>44</td>\n",
       "    </tr>\n",
       "    <tr>\n",
       "      <th>mean</th>\n",
       "      <td>NaN</td>\n",
       "      <td>115.537625</td>\n",
       "      <td>2.852813</td>\n",
       "      <td>8.246497</td>\n",
       "      <td>NaN</td>\n",
       "    </tr>\n",
       "    <tr>\n",
       "      <th>std</th>\n",
       "      <td>NaN</td>\n",
       "      <td>73.159192</td>\n",
       "      <td>0.988473</td>\n",
       "      <td>5.053591</td>\n",
       "      <td>NaN</td>\n",
       "    </tr>\n",
       "    <tr>\n",
       "      <th>min</th>\n",
       "      <td>NaN</td>\n",
       "      <td>7.000000</td>\n",
       "      <td>1.000000</td>\n",
       "      <td>1.000000</td>\n",
       "      <td>NaN</td>\n",
       "    </tr>\n",
       "    <tr>\n",
       "      <th>25%</th>\n",
       "      <td>NaN</td>\n",
       "      <td>70.000000</td>\n",
       "      <td>2.000000</td>\n",
       "      <td>4.000000</td>\n",
       "      <td>NaN</td>\n",
       "    </tr>\n",
       "    <tr>\n",
       "      <th>50%</th>\n",
       "      <td>NaN</td>\n",
       "      <td>100.000000</td>\n",
       "      <td>3.000000</td>\n",
       "      <td>7.000000</td>\n",
       "      <td>NaN</td>\n",
       "    </tr>\n",
       "    <tr>\n",
       "      <th>75%</th>\n",
       "      <td>NaN</td>\n",
       "      <td>140.000000</td>\n",
       "      <td>3.000000</td>\n",
       "      <td>12.000000</td>\n",
       "      <td>NaN</td>\n",
       "    </tr>\n",
       "    <tr>\n",
       "      <th>max</th>\n",
       "      <td>NaN</td>\n",
       "      <td>1200.000000</td>\n",
       "      <td>10.000000</td>\n",
       "      <td>26.000000</td>\n",
       "      <td>NaN</td>\n",
       "    </tr>\n",
       "  </tbody>\n",
       "</table>\n",
       "</div>"
      ],
      "text/plain": [
       "        Location         sq.m  number_of_rooms        floor price (AZN)\n",
       "count       2986  3200.000000      3200.000000  2783.000000        3200\n",
       "unique        76          NaN              NaN          NaN         631\n",
       "top     Nasimi r          NaN              NaN          NaN     135 000\n",
       "freq         210          NaN              NaN          NaN          44\n",
       "mean         NaN   115.537625         2.852813     8.246497         NaN\n",
       "std          NaN    73.159192         0.988473     5.053591         NaN\n",
       "min          NaN     7.000000         1.000000     1.000000         NaN\n",
       "25%          NaN    70.000000         2.000000     4.000000         NaN\n",
       "50%          NaN   100.000000         3.000000     7.000000         NaN\n",
       "75%          NaN   140.000000         3.000000    12.000000         NaN\n",
       "max          NaN  1200.000000        10.000000    26.000000         NaN"
      ]
     },
     "execution_count": 36,
     "metadata": {},
     "output_type": "execute_result"
    }
   ],
   "source": [
    "house_data.describe(include = 'all')\n",
    "\n",
    "# price (AZN) is object\n",
    "# There is a null\n",
    "# There are too many uniques in the Location column\n"
   ]
  },
  {
   "cell_type": "code",
   "execution_count": 38,
   "id": "8c5c6214",
   "metadata": {},
   "outputs": [],
   "source": [
    "house_data.drop('Location', axis = 1, inplace = True)"
   ]
  },
  {
   "cell_type": "code",
   "execution_count": 39,
   "id": "a98f1b29",
   "metadata": {},
   "outputs": [
    {
     "data": {
      "text/plain": [
       "sq.m               float64\n",
       "number_of_rooms      int64\n",
       "floor              float64\n",
       "price (AZN)         object\n",
       "dtype: object"
      ]
     },
     "execution_count": 39,
     "metadata": {},
     "output_type": "execute_result"
    }
   ],
   "source": [
    "house_data.dtypes"
   ]
  },
  {
   "cell_type": "code",
   "execution_count": 40,
   "id": "1d98b98a",
   "metadata": {},
   "outputs": [],
   "source": [
    "house_data['price (AZN)'] = house_data['price (AZN)'].str.replace(' ', '')"
   ]
  },
  {
   "cell_type": "code",
   "execution_count": 41,
   "id": "c353726e",
   "metadata": {},
   "outputs": [
    {
     "data": {
      "text/html": [
       "<div>\n",
       "<style scoped>\n",
       "    .dataframe tbody tr th:only-of-type {\n",
       "        vertical-align: middle;\n",
       "    }\n",
       "\n",
       "    .dataframe tbody tr th {\n",
       "        vertical-align: top;\n",
       "    }\n",
       "\n",
       "    .dataframe thead th {\n",
       "        text-align: right;\n",
       "    }\n",
       "</style>\n",
       "<table border=\"1\" class=\"dataframe\">\n",
       "  <thead>\n",
       "    <tr style=\"text-align: right;\">\n",
       "      <th></th>\n",
       "      <th>sq.m</th>\n",
       "      <th>number_of_rooms</th>\n",
       "      <th>floor</th>\n",
       "      <th>price (AZN)</th>\n",
       "    </tr>\n",
       "  </thead>\n",
       "  <tbody>\n",
       "    <tr>\n",
       "      <th>0</th>\n",
       "      <td>108.0</td>\n",
       "      <td>2</td>\n",
       "      <td>3.0</td>\n",
       "      <td>210000</td>\n",
       "    </tr>\n",
       "    <tr>\n",
       "      <th>1</th>\n",
       "      <td>65.0</td>\n",
       "      <td>2</td>\n",
       "      <td>7.0</td>\n",
       "      <td>134000</td>\n",
       "    </tr>\n",
       "    <tr>\n",
       "      <th>2</th>\n",
       "      <td>98.2</td>\n",
       "      <td>3</td>\n",
       "      <td>13.0</td>\n",
       "      <td>122800</td>\n",
       "    </tr>\n",
       "    <tr>\n",
       "      <th>3</th>\n",
       "      <td>248.0</td>\n",
       "      <td>5</td>\n",
       "      <td>15.0</td>\n",
       "      <td>1000000</td>\n",
       "    </tr>\n",
       "    <tr>\n",
       "      <th>4</th>\n",
       "      <td>126.1</td>\n",
       "      <td>3</td>\n",
       "      <td>NaN</td>\n",
       "      <td>453960</td>\n",
       "    </tr>\n",
       "    <tr>\n",
       "      <th>...</th>\n",
       "      <td>...</td>\n",
       "      <td>...</td>\n",
       "      <td>...</td>\n",
       "      <td>...</td>\n",
       "    </tr>\n",
       "    <tr>\n",
       "      <th>3195</th>\n",
       "      <td>86.0</td>\n",
       "      <td>2</td>\n",
       "      <td>7.0</td>\n",
       "      <td>118000</td>\n",
       "    </tr>\n",
       "    <tr>\n",
       "      <th>3196</th>\n",
       "      <td>85.0</td>\n",
       "      <td>3</td>\n",
       "      <td>9.0</td>\n",
       "      <td>200000</td>\n",
       "    </tr>\n",
       "    <tr>\n",
       "      <th>3197</th>\n",
       "      <td>123.0</td>\n",
       "      <td>3</td>\n",
       "      <td>9.0</td>\n",
       "      <td>195000</td>\n",
       "    </tr>\n",
       "    <tr>\n",
       "      <th>3198</th>\n",
       "      <td>70.0</td>\n",
       "      <td>2</td>\n",
       "      <td>8.0</td>\n",
       "      <td>124000</td>\n",
       "    </tr>\n",
       "    <tr>\n",
       "      <th>3199</th>\n",
       "      <td>87.0</td>\n",
       "      <td>2</td>\n",
       "      <td>9.0</td>\n",
       "      <td>156000</td>\n",
       "    </tr>\n",
       "  </tbody>\n",
       "</table>\n",
       "<p>3200 rows × 4 columns</p>\n",
       "</div>"
      ],
      "text/plain": [
       "       sq.m  number_of_rooms  floor price (AZN)\n",
       "0     108.0                2    3.0      210000\n",
       "1      65.0                2    7.0      134000\n",
       "2      98.2                3   13.0      122800\n",
       "3     248.0                5   15.0     1000000\n",
       "4     126.1                3    NaN      453960\n",
       "...     ...              ...    ...         ...\n",
       "3195   86.0                2    7.0      118000\n",
       "3196   85.0                3    9.0      200000\n",
       "3197  123.0                3    9.0      195000\n",
       "3198   70.0                2    8.0      124000\n",
       "3199   87.0                2    9.0      156000\n",
       "\n",
       "[3200 rows x 4 columns]"
      ]
     },
     "execution_count": 41,
     "metadata": {},
     "output_type": "execute_result"
    }
   ],
   "source": [
    "house_data"
   ]
  },
  {
   "cell_type": "markdown",
   "id": "e0ac1415",
   "metadata": {},
   "source": [
    "As you can see, the Price column type is object (categorical). You need to convert it to a numeric value"
   ]
  },
  {
   "cell_type": "code",
   "execution_count": 42,
   "id": "8c77a851",
   "metadata": {},
   "outputs": [],
   "source": [
    "house_data['price (AZN)'] = house_data['price (AZN)'].astype(int)\n"
   ]
  },
  {
   "cell_type": "code",
   "execution_count": 43,
   "id": "409ac794",
   "metadata": {},
   "outputs": [
    {
     "data": {
      "text/plain": [
       "sq.m               float64\n",
       "number_of_rooms      int64\n",
       "floor              float64\n",
       "price (AZN)          int64\n",
       "dtype: object"
      ]
     },
     "execution_count": 43,
     "metadata": {},
     "output_type": "execute_result"
    }
   ],
   "source": [
    "house_data.dtypes"
   ]
  },
  {
   "cell_type": "code",
   "execution_count": 44,
   "id": "a7f6e128",
   "metadata": {},
   "outputs": [],
   "source": [
    "# Duplicate check\n",
    "\n",
    "house_data.duplicated().sum()\n",
    "\n",
    "# If there is a duplicate, delete it\n",
    "\n",
    "house_data.drop_duplicates(inplace = True)"
   ]
  },
  {
   "cell_type": "markdown",
   "id": "fe49cea7",
   "metadata": {},
   "source": [
    "Check for missing values, fill"
   ]
  },
  {
   "cell_type": "code",
   "execution_count": 45,
   "id": "1bc32aa5",
   "metadata": {},
   "outputs": [
    {
     "data": {
      "text/plain": [
       "sq.m                0\n",
       "number_of_rooms     0\n",
       "floor              88\n",
       "price (AZN)         0\n",
       "dtype: int64"
      ]
     },
     "execution_count": 45,
     "metadata": {},
     "output_type": "execute_result"
    }
   ],
   "source": [
    "house_data.isnull().sum()"
   ]
  },
  {
   "cell_type": "code",
   "execution_count": 46,
   "id": "ed72f38e",
   "metadata": {},
   "outputs": [
    {
     "data": {
      "text/plain": [
       "sq.m               0\n",
       "number_of_rooms    0\n",
       "floor              0\n",
       "price (AZN)        0\n",
       "dtype: int64"
      ]
     },
     "execution_count": 46,
     "metadata": {},
     "output_type": "execute_result"
    }
   ],
   "source": [
    "# If there is null, fill null for Linear Regression\n",
    "# Mean method for non objects\n",
    "# Mode method for objects\n",
    "\n",
    "for rec in house_data.columns:\n",
    "    if house_data[rec].dtypes != object and rec != 'price (AZN)':\n",
    "        house_data[rec].fillna(value = house_data[rec].mean(), inplace = True)\n",
    "    else:\n",
    "        house_data[rec].fillna(value = house_data[rec].mode()[0], inplace = True)\n",
    "\n",
    "house_data.isnull().sum()"
   ]
  },
  {
   "cell_type": "markdown",
   "id": "6a3dd987",
   "metadata": {},
   "source": [
    "Check the correlation in both table and heatmap form"
   ]
  },
  {
   "cell_type": "code",
   "execution_count": 47,
   "id": "0e9950dd",
   "metadata": {},
   "outputs": [
    {
     "data": {
      "text/html": [
       "<div>\n",
       "<style scoped>\n",
       "    .dataframe tbody tr th:only-of-type {\n",
       "        vertical-align: middle;\n",
       "    }\n",
       "\n",
       "    .dataframe tbody tr th {\n",
       "        vertical-align: top;\n",
       "    }\n",
       "\n",
       "    .dataframe thead th {\n",
       "        text-align: right;\n",
       "    }\n",
       "</style>\n",
       "<table border=\"1\" class=\"dataframe\">\n",
       "  <thead>\n",
       "    <tr style=\"text-align: right;\">\n",
       "      <th></th>\n",
       "      <th>sq.m</th>\n",
       "      <th>number_of_rooms</th>\n",
       "      <th>floor</th>\n",
       "      <th>price (AZN)</th>\n",
       "    </tr>\n",
       "  </thead>\n",
       "  <tbody>\n",
       "    <tr>\n",
       "      <th>sq.m</th>\n",
       "      <td>1.000000</td>\n",
       "      <td>0.792580</td>\n",
       "      <td>0.200835</td>\n",
       "      <td>0.684824</td>\n",
       "    </tr>\n",
       "    <tr>\n",
       "      <th>number_of_rooms</th>\n",
       "      <td>0.792580</td>\n",
       "      <td>1.000000</td>\n",
       "      <td>0.122659</td>\n",
       "      <td>0.513993</td>\n",
       "    </tr>\n",
       "    <tr>\n",
       "      <th>floor</th>\n",
       "      <td>0.200835</td>\n",
       "      <td>0.122659</td>\n",
       "      <td>1.000000</td>\n",
       "      <td>0.114054</td>\n",
       "    </tr>\n",
       "    <tr>\n",
       "      <th>price (AZN)</th>\n",
       "      <td>0.684824</td>\n",
       "      <td>0.513993</td>\n",
       "      <td>0.114054</td>\n",
       "      <td>1.000000</td>\n",
       "    </tr>\n",
       "  </tbody>\n",
       "</table>\n",
       "</div>"
      ],
      "text/plain": [
       "                     sq.m  number_of_rooms     floor  price (AZN)\n",
       "sq.m             1.000000         0.792580  0.200835     0.684824\n",
       "number_of_rooms  0.792580         1.000000  0.122659     0.513993\n",
       "floor            0.200835         0.122659  1.000000     0.114054\n",
       "price (AZN)      0.684824         0.513993  0.114054     1.000000"
      ]
     },
     "execution_count": 47,
     "metadata": {},
     "output_type": "execute_result"
    }
   ],
   "source": [
    "house_data_corr = house_data.corr()\n",
    "\n",
    "house_data_corr\n"
   ]
  },
  {
   "cell_type": "code",
   "execution_count": 48,
   "id": "63317d38",
   "metadata": {},
   "outputs": [
    {
     "data": {
      "text/plain": [
       "<Axes: >"
      ]
     },
     "execution_count": 48,
     "metadata": {},
     "output_type": "execute_result"
    },
    {
     "data": {
      "image/png": "[encoded data removed]",
      "text/plain": [
       "<Figure size 640x480 with 2 Axes>"
      ]
     },
     "metadata": {},
     "output_type": "display_data"
    }
   ],
   "source": [
    "sns.heatmap(house_data.corr(), annot = True)"
   ]
  },
  {
   "cell_type": "markdown",
   "id": "976fec2b",
   "metadata": {},
   "source": [
    "Outlier Treatment"
   ]
  },
  {
   "cell_type": "code",
   "execution_count": 49,
   "id": "060b4847",
   "metadata": {
    "scrolled": true
   },
   "outputs": [
    {
     "data": {
      "image/png": "[encoded data removed]",
      "text/plain": [
       "<Figure size 640x480 with 1 Axes>"
      ]
     },
     "metadata": {},
     "output_type": "display_data"
    },
    {
     "data": {
      "image/png": "[encoded data removed]",
      "text/plain": [
       "<Figure size 640x480 with 1 Axes>"
      ]
     },
     "metadata": {},
     "output_type": "display_data"
    },
    {
     "data": {
      "image/png": "[encoded data removed]",
      "text/plain": [
       "<Figure size 640x480 with 1 Axes>"
      ]
     },
     "metadata": {},
     "output_type": "display_data"
    },
    {
     "data": {
      "image/png": "[encoded data removed]",
      "text/plain": [
       "<Figure size 640x480 with 1 Axes>"
      ]
     },
     "metadata": {},
     "output_type": "display_data"
    }
   ],
   "source": [
    "# outlier treatment for Linear Regression model\n",
    "\n",
    "for rec in house_data.columns:\n",
    "    if house_data[rec].dtypes != object:\n",
    "        sns.boxplot(x = house_data[rec], data = house_data)\n",
    "        plt.show()\n",
    "    "
   ]
  },
  {
   "cell_type": "code",
   "execution_count": 50,
   "id": "83a1cf67",
   "metadata": {},
   "outputs": [],
   "source": [
    "# outlier treatment for Linear Regression\n",
    "\n",
    "for rec in house_data.columns:\n",
    "    if house_data[rec].dtype != object and rec != 'price (AZN)':\n",
    "        q1 = house_data[rec].quantile(0.25)\n",
    "        q3 = house_data[rec].quantile(0.75)\n",
    "        IQR = q3 - q1\n",
    "        lower = q1 - 1.5 * IQR\n",
    "        upper = q3 + 1.5 * IQR\n",
    "        house_data[rec] = np.where(house_data[rec] > upper,\n",
    "                                    upper,\n",
    "                                    np.where(house_data[rec] < lower,\n",
    "                                             lower,\n",
    "                                             house_data[rec]))\n",
    "\n"
   ]
  },
  {
   "cell_type": "code",
   "execution_count": 51,
   "id": "fd81ab53",
   "metadata": {},
   "outputs": [
    {
     "data": {
      "image/png": "[encoded data removed]",
      "text/plain": [
       "<Figure size 640x480 with 1 Axes>"
      ]
     },
     "metadata": {},
     "output_type": "display_data"
    },
    {
     "data": {
      "image/png": "[encoded data removed]",
      "text/plain": [
       "<Figure size 640x480 with 1 Axes>"
      ]
     },
     "metadata": {},
     "output_type": "display_data"
    },
    {
     "data": {
      "image/png": "[encoded data removed]",
      "text/plain": [
       "<Figure size 640x480 with 1 Axes>"
      ]
     },
     "metadata": {},
     "output_type": "display_data"
    },
    {
     "data": {
      "image/png": "[encoded data removed]",
      "text/plain": [
       "<Figure size 640x480 with 1 Axes>"
      ]
     },
     "metadata": {},
     "output_type": "display_data"
    }
   ],
   "source": [
    "# outlier treatment for Linear Regression\n",
    "\n",
    "for rec in house_data.columns:\n",
    "    if house_data[rec].dtypes != object:\n",
    "        sns.boxplot(x = house_data[rec], data = house_data)\n",
    "        plt.show()"
   ]
  },
  {
   "cell_type": "code",
   "execution_count": 52,
   "id": "bb9de82e",
   "metadata": {},
   "outputs": [
    {
     "data": {
      "text/html": [
       "<div>\n",
       "<style scoped>\n",
       "    .dataframe tbody tr th:only-of-type {\n",
       "        vertical-align: middle;\n",
       "    }\n",
       "\n",
       "    .dataframe tbody tr th {\n",
       "        vertical-align: top;\n",
       "    }\n",
       "\n",
       "    .dataframe thead th {\n",
       "        text-align: right;\n",
       "    }\n",
       "</style>\n",
       "<table border=\"1\" class=\"dataframe\">\n",
       "  <thead>\n",
       "    <tr style=\"text-align: right;\">\n",
       "      <th></th>\n",
       "      <th>sq.m</th>\n",
       "      <th>number_of_rooms</th>\n",
       "      <th>floor</th>\n",
       "      <th>price (AZN)</th>\n",
       "    </tr>\n",
       "  </thead>\n",
       "  <tbody>\n",
       "    <tr>\n",
       "      <th>0</th>\n",
       "      <td>108.0</td>\n",
       "      <td>2.0</td>\n",
       "      <td>3.000000</td>\n",
       "      <td>210000</td>\n",
       "    </tr>\n",
       "    <tr>\n",
       "      <th>1</th>\n",
       "      <td>65.0</td>\n",
       "      <td>2.0</td>\n",
       "      <td>7.000000</td>\n",
       "      <td>134000</td>\n",
       "    </tr>\n",
       "    <tr>\n",
       "      <th>2</th>\n",
       "      <td>98.2</td>\n",
       "      <td>3.0</td>\n",
       "      <td>13.000000</td>\n",
       "      <td>122800</td>\n",
       "    </tr>\n",
       "    <tr>\n",
       "      <th>3</th>\n",
       "      <td>237.5</td>\n",
       "      <td>4.5</td>\n",
       "      <td>15.000000</td>\n",
       "      <td>1000000</td>\n",
       "    </tr>\n",
       "    <tr>\n",
       "      <th>4</th>\n",
       "      <td>126.1</td>\n",
       "      <td>3.0</td>\n",
       "      <td>8.282128</td>\n",
       "      <td>453960</td>\n",
       "    </tr>\n",
       "    <tr>\n",
       "      <th>...</th>\n",
       "      <td>...</td>\n",
       "      <td>...</td>\n",
       "      <td>...</td>\n",
       "      <td>...</td>\n",
       "    </tr>\n",
       "    <tr>\n",
       "      <th>3195</th>\n",
       "      <td>86.0</td>\n",
       "      <td>2.0</td>\n",
       "      <td>7.000000</td>\n",
       "      <td>118000</td>\n",
       "    </tr>\n",
       "    <tr>\n",
       "      <th>3196</th>\n",
       "      <td>85.0</td>\n",
       "      <td>3.0</td>\n",
       "      <td>9.000000</td>\n",
       "      <td>200000</td>\n",
       "    </tr>\n",
       "    <tr>\n",
       "      <th>3197</th>\n",
       "      <td>123.0</td>\n",
       "      <td>3.0</td>\n",
       "      <td>9.000000</td>\n",
       "      <td>195000</td>\n",
       "    </tr>\n",
       "    <tr>\n",
       "      <th>3198</th>\n",
       "      <td>70.0</td>\n",
       "      <td>2.0</td>\n",
       "      <td>8.000000</td>\n",
       "      <td>124000</td>\n",
       "    </tr>\n",
       "    <tr>\n",
       "      <th>3199</th>\n",
       "      <td>87.0</td>\n",
       "      <td>2.0</td>\n",
       "      <td>9.000000</td>\n",
       "      <td>156000</td>\n",
       "    </tr>\n",
       "  </tbody>\n",
       "</table>\n",
       "<p>2438 rows × 4 columns</p>\n",
       "</div>"
      ],
      "text/plain": [
       "       sq.m  number_of_rooms      floor  price (AZN)\n",
       "0     108.0              2.0   3.000000       210000\n",
       "1      65.0              2.0   7.000000       134000\n",
       "2      98.2              3.0  13.000000       122800\n",
       "3     237.5              4.5  15.000000      1000000\n",
       "4     126.1              3.0   8.282128       453960\n",
       "...     ...              ...        ...          ...\n",
       "3195   86.0              2.0   7.000000       118000\n",
       "3196   85.0              3.0   9.000000       200000\n",
       "3197  123.0              3.0   9.000000       195000\n",
       "3198   70.0              2.0   8.000000       124000\n",
       "3199   87.0              2.0   9.000000       156000\n",
       "\n",
       "[2438 rows x 4 columns]"
      ]
     },
     "execution_count": 52,
     "metadata": {},
     "output_type": "execute_result"
    }
   ],
   "source": [
    "# convert categorical to numeric with get_dummies\n",
    "\n",
    "house_data = pd.get_dummies(house_data, drop_first = True)\n",
    "\n",
    "house_data"
   ]
  },
  {
   "cell_type": "markdown",
   "id": "d627d4e2",
   "metadata": {},
   "source": [
    "Data train test split"
   ]
  },
  {
   "cell_type": "code",
   "execution_count": 53,
   "id": "46617bd6",
   "metadata": {},
   "outputs": [],
   "source": [
    "# inputs, outputs\n",
    "\n",
    "inputs = house_data.drop('price (AZN)', axis = 1)\n",
    "\n",
    "outputs = house_data['price (AZN)']\n",
    "\n",
    "\n",
    "X_train, X_test, y_train, y_test = train_test_split(inputs, outputs, test_size = 0.2, random_state = 42)\n"
   ]
  },
  {
   "cell_type": "markdown",
   "id": "a5bdecf5",
   "metadata": {},
   "source": [
    "Linear regression is applied"
   ]
  },
  {
   "cell_type": "code",
   "execution_count": 54,
   "id": "bb9c6bad",
   "metadata": {},
   "outputs": [
    {
     "data": {
      "text/html": [
       "<style>#sk-container-id-1 {color: black;}#sk-container-id-1 pre{padding: 0;}#sk-container-id-1 div.sk-toggleable {background-color: white;}#sk-container-id-1 label.sk-toggleable__label {cursor: pointer;display: block;width: 100%;margin-bottom: 0;padding: 0.3em;box-sizing: border-box;text-align: center;}#sk-container-id-1 label.sk-toggleable__label-arrow:before {content: \"▸\";float: left;margin-right: 0.25em;color: #696969;}#sk-container-id-1 label.sk-toggleable__label-arrow:hover:before {color: black;}#sk-container-id-1 div.sk-estimator:hover label.sk-toggleable__label-arrow:before {color: black;}#sk-container-id-1 div.sk-toggleable__content {max-height: 0;max-width: 0;overflow: hidden;text-align: left;background-color: #f0f8ff;}#sk-container-id-1 div.sk-toggleable__content pre {margin: 0.2em;color: black;border-radius: 0.25em;background-color: #f0f8ff;}#sk-container-id-1 input.sk-toggleable__control:checked~div.sk-toggleable__content {max-height: 200px;max-width: 100%;overflow: auto;}#sk-container-id-1 input.sk-toggleable__control:checked~label.sk-toggleable__label-arrow:before {content: \"▾\";}#sk-container-id-1 div.sk-estimator input.sk-toggleable__control:checked~label.sk-toggleable__label {background-color: #d4ebff;}#sk-container-id-1 div.sk-label input.sk-toggleable__control:checked~label.sk-toggleable__label {background-color: #d4ebff;}#sk-container-id-1 input.sk-hidden--visually {border: 0;clip: rect(1px 1px 1px 1px);clip: rect(1px, 1px, 1px, 1px);height: 1px;margin: -1px;overflow: hidden;padding: 0;position: absolute;width: 1px;}#sk-container-id-1 div.sk-estimator {font-family: monospace;background-color: #f0f8ff;border: 1px dotted black;border-radius: 0.25em;box-sizing: border-box;margin-bottom: 0.5em;}#sk-container-id-1 div.sk-estimator:hover {background-color: #d4ebff;}#sk-container-id-1 div.sk-parallel-item::after {content: \"\";width: 100%;border-bottom: 1px solid gray;flex-grow: 1;}#sk-container-id-1 div.sk-label:hover label.sk-toggleable__label {background-color: #d4ebff;}#sk-container-id-1 div.sk-serial::before {content: \"\";position: absolute;border-left: 1px solid gray;box-sizing: border-box;top: 0;bottom: 0;left: 50%;z-index: 0;}#sk-container-id-1 div.sk-serial {display: flex;flex-direction: column;align-items: center;background-color: white;padding-right: 0.2em;padding-left: 0.2em;position: relative;}#sk-container-id-1 div.sk-item {position: relative;z-index: 1;}#sk-container-id-1 div.sk-parallel {display: flex;align-items: stretch;justify-content: center;background-color: white;position: relative;}#sk-container-id-1 div.sk-item::before, #sk-container-id-1 div.sk-parallel-item::before {content: \"\";position: absolute;border-left: 1px solid gray;box-sizing: border-box;top: 0;bottom: 0;left: 50%;z-index: -1;}#sk-container-id-1 div.sk-parallel-item {display: flex;flex-direction: column;z-index: 1;position: relative;background-color: white;}#sk-container-id-1 div.sk-parallel-item:first-child::after {align-self: flex-end;width: 50%;}#sk-container-id-1 div.sk-parallel-item:last-child::after {align-self: flex-start;width: 50%;}#sk-container-id-1 div.sk-parallel-item:only-child::after {width: 0;}#sk-container-id-1 div.sk-dashed-wrapped {border: 1px dashed gray;margin: 0 0.4em 0.5em 0.4em;box-sizing: border-box;padding-bottom: 0.4em;background-color: white;}#sk-container-id-1 div.sk-label label {font-family: monospace;font-weight: bold;display: inline-block;line-height: 1.2em;}#sk-container-id-1 div.sk-label-container {text-align: center;}#sk-container-id-1 div.sk-container {/* jupyter's `normalize.less` sets `[hidden] { display: none; }` but bootstrap.min.css set `[hidden] { display: none !important; }` so we also need the `!important` here to be able to override the default hidden behavior on the sphinx rendered scikit-learn.org. See: https://github.com/scikit-learn/scikit-learn/issues/21755 */display: inline-block !important;position: relative;}#sk-container-id-1 div.sk-text-repr-fallback {display: none;}</style><div id=\"sk-container-id-1\" class=\"sk-top-container\"><div class=\"sk-text-repr-fallback\"><pre>LinearRegression()</pre><b>In a Jupyter environment, please rerun this cell to show the HTML representation or trust the notebook. <br />On GitHub, the HTML representation is unable to render, please try loading this page with nbviewer.org.</b></div><div class=\"sk-container\" hidden><div class=\"sk-item\"><div class=\"sk-estimator sk-toggleable\"><input class=\"sk-toggleable__control sk-hidden--visually\" id=\"sk-estimator-id-1\" type=\"checkbox\" checked><label for=\"sk-estimator-id-1\" class=\"sk-toggleable__label sk-toggleable__label-arrow\">LinearRegression</label><div class=\"sk-toggleable__content\"><pre>LinearRegression()</pre></div></div></div></div></div>"
      ],
      "text/plain": [
       "LinearRegression()"
      ]
     },
     "execution_count": 54,
     "metadata": {},
     "output_type": "execute_result"
    }
   ],
   "source": [
    "reg = LinearRegression()\n",
    "\n",
    "reg.fit(X_train, y_train)\n"
   ]
  },
  {
   "cell_type": "code",
   "execution_count": 55,
   "id": "5c60d537",
   "metadata": {},
   "outputs": [
    {
     "data": {
      "text/plain": [
       "array([  3190.88886382, -22291.26465023,   -518.84941728])"
      ]
     },
     "execution_count": 55,
     "metadata": {},
     "output_type": "execute_result"
    }
   ],
   "source": [
    "reg.coef_"
   ]
  },
  {
   "cell_type": "code",
   "execution_count": 56,
   "id": "a9a45a70",
   "metadata": {},
   "outputs": [
    {
     "data": {
      "text/plain": [
       "-34442.904233806476"
      ]
     },
     "execution_count": 56,
     "metadata": {},
     "output_type": "execute_result"
    }
   ],
   "source": [
    "reg.intercept_"
   ]
  },
  {
   "cell_type": "code",
   "execution_count": 57,
   "id": "df63de40",
   "metadata": {},
   "outputs": [],
   "source": [
    "fy_predict = reg.predict(X_test)"
   ]
  },
  {
   "cell_type": "code",
   "execution_count": 58,
   "id": "a17c4291",
   "metadata": {
    "scrolled": false
   },
   "outputs": [
    {
     "data": {
      "text/plain": [
       "array([328370.64220022, 277439.17013575, 350310.76458634, 260017.03110283,\n",
       "       463593.38046843, 621007.11232846,  63008.01708583, 341775.79682944,\n",
       "       315729.83650159, 611411.96703874, 116812.07071363, 332721.97965526,\n",
       "        92841.50805491, 513013.26167758, 499273.38226606, 111390.19946042,\n",
       "       114781.63044103, 411579.25217287, 289242.8191166 , 198296.42528126,\n",
       "       309866.90819123, 402999.32701945, 110352.50062586, 274883.81922941,\n",
       "        94916.90572404, 124231.54727584, 342858.45306052, 107758.25353945,\n",
       "       208322.27136277, 308310.35993939, 337106.15207391, 255025.15572887,\n",
       "       123271.64080141, 429486.34440444, 257333.93047839,  95591.33986158,\n",
       "       178599.40771744,  88016.27857911, 187056.58311421, 273807.22421478,\n",
       "       328415.59959674, 108795.95237401, 339700.39916032,  31099.12844762,\n",
       "       246567.9803321 , 235990.44986969, 421592.97582148, 617894.01582477,\n",
       "       289242.8191166 ,  82231.14262889, 112109.59099449, 182705.24565917,\n",
       "       116812.07071363,  79481.31082221, 438021.31216134,  93879.20688947,\n",
       "       233318.41042315,  44862.26814329, 135957.40389656, 249272.85474226,\n",
       "       258779.85140649, 612186.67223468, 253027.55041988, 225347.24948005,\n",
       "        47572.42218401,  95072.4904443 , 264708.44964408, 183269.05247297,\n",
       "       109314.80179129, 332280.92259811, 211879.56665565, 320555.06597739,\n",
       "       280707.8513597 ,  48091.27160129, 101940.28262561, 220599.81236439,\n",
       "       249713.9117994 ,  53390.39309785, 388679.22331232, 212979.7936854 ,\n",
       "       233441.1601798 , 274326.07363206, 378632.6647001 ,  68825.98799967,\n",
       "       213649.93277405, 165758.05990202,  61970.31825127,  91362.7521632 ,\n",
       "       288049.53556177, 103970.72289822, 446601.23731476, 151834.05585553,\n",
       "       162644.96339834, 339700.39916032, 561551.02877244, 613224.37106924,\n",
       "       340141.45621746,  85818.13115334, 213102.54344205, 302966.28104631,\n",
       "       125269.2461104 , 110352.50062586, 589309.12207239, 358890.68973976,\n",
       "        97070.09575329, 213063.64726199, 402480.47760217, 136443.41835022,\n",
       "       436386.97154936, 542846.75264666, 471486.74905139, 618785.33288757,\n",
       "        91207.16744293, 230094.68659572, 433792.72446296, 397700.20552289,\n",
       "       132292.62301197, 133207.57208988, 340738.09799488, 428526.43793001,\n",
       "       145452.27812788, 206079.16654048, 141832.45463982, 217882.81552133,\n",
       "       382219.65322455,  90688.31802565,  54473.04932893,  95954.6045586 ,\n",
       "       349869.70752919, 430127.94357838, 134841.91270186, 129575.62616891,\n",
       "       487936.41077266, 320996.12303454, 524300.70105643, 152508.48999307,\n",
       "        46489.76595292, 111986.84123783,  37558.6985354 , 167821.33513824,\n",
       "        97621.78013419, 171665.9456089 , 133759.25647078, 347492.34336803,\n",
       "       278995.71838759,  94916.90572404, 117894.72694471, 334401.27766376,\n",
       "       100779.8340344 , 332799.77201539, 140153.15663133, 215696.79052846,\n",
       "       226179.12656726, 125752.62074878,  92763.71569478, 391792.31981601,\n",
       "       310385.75760852,  59894.92058214, 119451.27519656,  86018.67327012,\n",
       "       195513.75851097,  35360.55110962, 111909.0488777 , 151834.05585553,\n",
       "        89728.41155122, 618931.71465933, 458923.73571289, 125788.09552768,\n",
       "       440219.45958712, 225943.89125747, 153435.56150389, 411015.44535907,\n",
       "       110352.50062586, 243973.7332457 , 113225.08218918,  93879.20688947,\n",
       "       243013.82677127,  63526.86650311, 251315.41744777, 151879.01325205,\n",
       "       190247.47197803, 117375.87752743, 119925.16721732,  92322.65863763,\n",
       "       331243.22376355, 293393.61445485, 166276.9093193 , 108277.10295673,\n",
       "       628520.7987326 , 427974.75354912,  77924.76257037,  78962.46140493,\n",
       "       277439.17013575, 119970.12461384,  85299.28173605, 200780.04504392,\n",
       "       367347.86513652, 404961.45754954, 445044.68906292, -82093.57264142,\n",
       "       266348.85147251, 307791.51052211, 111390.19946042, 295147.28342231,\n",
       "       533870.72783261, 242936.03441113,  84306.54029801,  89617.78422748,\n",
       "        87542.38655835,  78521.40434778, 203640.50417434, 209470.59752108,\n",
       "       460999.13338202, 226701.39738571, 492311.38024281, 202727.41332582,\n",
       "       254956.56631723, 139148.29276038, 587519.19674015, 295591.76188063,\n",
       "       105572.22854658,  46534.72334944, 194035.00261926, 204522.61828863,\n",
       "       149803.61558292, 347638.7251398 , 431639.5344337 , 289132.19179285,\n",
       "       160369.02361243,  61970.31825127, 328052.33489973, 236509.29928697,\n",
       "       157223.09214512, 251873.16304511, 238629.65435262, 107758.25353945,\n",
       "       146740.47643719, 212517.74442842,  95954.6045586 , 623851.15397707,\n",
       "       143450.37776999, 278632.45369057, 106720.55470489, 203484.91945407,\n",
       "        43940.47626304,  68825.98799967,  52352.69426328, 135516.34683941,\n",
       "       109392.59415143, 417286.59576296, 258371.62931296, 505593.78511538,\n",
       "       329492.19461137, 178443.82299717, 461517.9827993 , 113102.33243253,\n",
       "       216689.5319665 , 247164.62210952, 142261.38926406, 358693.56902414,\n",
       "       339181.54974303, 215971.70360421, 205041.46770591, 387044.88270034,\n",
       "       114781.63044103, 402739.67810865, 464631.07930299, 247605.67916666,\n",
       "       449273.2767613 , 418434.92192127, 410103.13609644, 614780.91932108,\n",
       "       308829.20935667, 116215.42893622, 535435.69744707, 617855.11964471,\n",
       "       323745.95484121, 400923.92935032, 243973.7332457 , 167269.65075735,\n",
       "       191759.06283335, 241898.33557657, 485929.60251517,  93360.35747219,\n",
       "       184462.3360278 , 542846.75264666, 279526.41056865,  84261.58290149,\n",
       "       214691.92665751, 647698.96687914, 215255.73347131, 516784.37483701,\n",
       "       404442.60813226, 116338.17869287, 397181.35610561, 165758.05990202,\n",
       "       256704.45373736, 211220.84508737, 464190.02224584, 100857.62639453,\n",
       "       271293.40930379, 214175.71705551, 101253.72605516,  58338.3723303 ,\n",
       "       556129.15751922, 158215.83358317, 222156.36061623, 282905.99878548,\n",
       "       121118.45077215, 197070.30676282, 214173.07724023, 471609.49880804,\n",
       "       343896.15189508, 317397.01207718, 157333.71946887, 226981.59009203,\n",
       "       166795.75873659, 135924.56893294, 259928.1775648 , 401046.67910697,\n",
       "       143299.08809863, 106201.70528761,  94398.05630675,  60335.97763929,\n",
       "        82672.19968603, 377472.21610888,  78443.61198765, 314173.28824975,\n",
       "       478510.12595297, 620488.26291118, 101817.53286896, 201454.47918146,\n",
       "       565685.40662888, 310982.39938593, 232125.12686832, 176326.8893327 ,\n",
       "       281071.11605671, 281667.75783413, 115054.980345  , 278995.71838759,\n",
       "       281823.3425544 , 117894.72694471, 116857.02811015, 132292.62301197,\n",
       "       349034.40904081, 145530.07048802, 266264.99789592, 151360.16383476,\n",
       "       500311.08110062, 226981.59009203, 463593.38046843, 292874.76503757,\n",
       "        80155.74495976,  99789.45274251, 168948.94876584, 327455.69312231,\n",
       "       262003.57523392, 414251.29161941, 175882.41087438, 357334.14148791,\n",
       "       309470.80853061, 202569.97037616, 136962.2677675 , 319439.5747827 ,\n",
       "       171543.19585225, 365746.35948816, 275363.77246662, 104489.5723155 ,\n",
       "       211545.99519021, 613224.37106924, 187497.64017135, 212064.84460749,\n",
       "       183301.88743658, 606384.33721676, 218407.72615506, 184306.75130753,\n",
       "        82672.19968603, 167944.0848949 , 142780.23868134, 193834.46050248,\n",
       "       241898.33557657, 104534.52971202, 365791.31688468,  63604.65886324,\n",
       "       202933.23507318, 232766.72604226, 158260.79097969, 148765.91674836,\n",
       "       152120.03010917, 348799.17373102, 286492.98730993, 189087.02338681,\n",
       "       383853.99383652, 227469.96469186,  31617.9778649 , 345563.32747068,\n",
       "       182186.39624189, 512494.4122603 , 192997.3037847 , 285896.34553251,\n",
       "        84780.43231877, 214659.0916939 , 260447.02698208, 350355.72198286,\n",
       "       111909.0488777 , 487722.1676627 , 224795.56509916,  48046.31420477,\n",
       "        98626.64400514, 439059.0109959 , 446082.38789748, 271135.18476824,\n",
       "       191848.97762639, 326936.84370503, 397058.60634895, 292919.72243409,\n",
       "       244459.74769936, 211545.99519021, 206765.72311093, 181712.50422113,\n",
       "       359393.12167523, 624370.00339435, 174170.27790227,  80000.16023949,\n",
       "       437106.36308343, 168871.15640571, 127422.43613966, 358705.41178792,\n",
       "       291318.21678572, 558135.96577671, 245039.97199497, 224917.2536008 ,\n",
       "       324783.65367577,  54428.09193241, 390676.82862131, 163082.59905431,\n",
       "       472161.18318894, 310385.75760852, 616337.46757293, 149803.61558292,\n",
       "       230724.16333675, 416878.37366943, 123712.69785855, 354656.04082492,\n",
       "       280033.41722215, 246004.1735183 ,  95435.75514132, 109359.75918781,\n",
       "       587519.19674015, 296506.71095854, 397058.60634895,  94398.05630675,\n",
       "       109833.65120858, 321670.55717209,  84792.27508255, 289651.04121013,\n",
       "        38518.60500983, 362477.67826421, 152397.86266933,  92322.65863763,\n",
       "       101895.32522909, 293912.46387213,  62644.75238881, 300813.09101705,\n",
       "       222364.54250974, 307791.51052211, 192874.55402805, 370052.73954668,\n",
       "       133330.32184654, 580083.30269614, 101376.47581181, 137072.89509125,\n",
       "       379028.76436073, 210627.62471113, 148124.31757442, 159253.53241773,\n",
       "       391351.26275886, 172613.72965043, 446634.07227837, 246049.13091482,\n",
       "       135924.56893294, 612381.07646166, 511975.56284302, 355135.99406214,\n",
       "       157178.1347486 , 160446.81597256, 240860.63674201, 186945.67612133])"
      ]
     },
     "execution_count": 58,
     "metadata": {},
     "output_type": "execute_result"
    }
   ],
   "source": [
    "fy_predict"
   ]
  },
  {
   "cell_type": "code",
   "execution_count": 59,
   "id": "929d6878",
   "metadata": {},
   "outputs": [],
   "source": [
    "# function for metrics\n",
    "\n",
    "def train_and_evaluate_model(model, X_train, y_train, X_test, y_test):\n",
    "    \n",
    "    model.fit(X_train, y_train)\n",
    "    \n",
    "    y_pred = model.predict(X_test)\n",
    "    \n",
    "    mae_test = metrics.mean_absolute_error(y_test, y_pred)\n",
    "    mse_test = metrics.mean_squared_error(y_test, y_pred)\n",
    "    rmse_test = np.sqrt(mse_test)\n",
    "    r2_test = metrics.r2_score(y_test, y_pred)\n",
    "\n",
    "\n",
    "    y_pred_train = model.predict(X_train)\n",
    "\n",
    "    mae_train = metrics.mean_absolute_error(y_train, y_pred_train)\n",
    "    mse_train = metrics.mean_squared_error(y_train, y_pred_train)\n",
    "    rmse_train = np.sqrt(mse_train)\n",
    "    r2_train = metrics.r2_score(y_train, y_pred_train)\n",
    "\n",
    "\n",
    "    results_dict = {\n",
    "        'Metric': ['MAE', 'MSE', 'RMSE', 'R2'],\n",
    "        'Train': [mae_train, mse_train, rmse_train, r2_train * 100],\n",
    "        'Test': [mae_test, mse_test, rmse_test, r2_test * 100]\n",
    "    }\n",
    "\n",
    "    results_df = pd.DataFrame(results_dict)\n",
    "    \n",
    "    print(results_df)\n",
    "    \n",
    "    return r2_test"
   ]
  },
  {
   "cell_type": "code",
   "execution_count": 60,
   "id": "c1f24671",
   "metadata": {},
   "outputs": [
    {
     "name": "stdout",
     "output_type": "stream",
     "text": [
      "  Metric         Train          Test\n",
      "0    MAE  6.886304e+04  6.541591e+04\n",
      "1    MSE  4.469052e+10  1.603872e+10\n",
      "2   RMSE  2.114013e+05  1.266441e+05\n",
      "3     R2  3.108639e+01  5.311518e+01\n"
     ]
    },
    {
     "data": {
      "text/plain": [
       "0.5311517981655933"
      ]
     },
     "execution_count": 60,
     "metadata": {},
     "output_type": "execute_result"
    }
   ],
   "source": [
    "train_and_evaluate_model(reg, X_train, y_train, X_test, y_test)"
   ]
  }
 ],
 "metadata": {
  "kernelspec": {
   "display_name": "Python 3 (ipykernel)",
   "language": "python",
   "name": "python3"
  },
  "language_info": {
   "codemirror_mode": {
    "name": "ipython",
    "version": 3
   },
   "file_extension": ".py",
   "mimetype": "text/x-python",
   "name": "python",
   "nbconvert_exporter": "python",
   "pygments_lexer": "ipython3",
   "version": "3.11.4"
  }
 },
 "nbformat": 4,
 "nbformat_minor": 5
}
